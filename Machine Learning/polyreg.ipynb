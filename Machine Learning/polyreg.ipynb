{
  "nbformat": 4,
  "nbformat_minor": 0,
  "metadata": {
    "colab": {
      "name": "polyreg.ipynb",
      "provenance": []
    },
    "kernelspec": {
      "name": "python3",
      "display_name": "Python 3"
    }
  },
  "cells": [
    {
      "cell_type": "markdown",
      "metadata": {
        "id": "QLVt2u1VsRdF",
        "colab_type": "text"
      },
      "source": [
        "Polynomial Regression"
      ]
    },
    {
      "cell_type": "code",
      "metadata": {
        "id": "KHuZcUieEUQu",
        "colab_type": "code",
        "colab": {}
      },
      "source": [
        "import numpy as np\n",
        "import pandas as pd\n",
        "import matplotlib.pyplot as plt\n",
        "from sklearn.linear_model import LinearRegression\n",
        "from sklearn.metrics import mean_squared_error, r2_score\n",
        "from sklearn.preprocessing import PolynomialFeatures"
      ],
      "execution_count": 0,
      "outputs": []
    },
    {
      "cell_type": "markdown",
      "metadata": {
        "id": "cZig-vbmILTw",
        "colab_type": "text"
      },
      "source": [
        "Generating data by adding noise from the normal distribution to the function sin( x^2 ) where x is in radians."
      ]
    },
    {
      "cell_type": "code",
      "metadata": {
        "id": "0uN4A6sgFD7r",
        "colab_type": "code",
        "colab": {
          "base_uri": "https://localhost:8080/",
          "height": 265
        },
        "outputId": "978538d8-ebd1-4bf9-8be1-bf310fdd97f3"
      },
      "source": [
        "x = np.array([i*np.pi/180 for i in np.linspace(0,100,1000)])\n",
        "x1 = x #Saving a copy for future use\n",
        "n = len(x)\n",
        "y = 10*np.sin(x*x)+np.random.normal(0,0.01,n)\n",
        "y1 = y\n",
        "\n",
        "plt.plot(x,y,'.')\n",
        "plt.show()"
      ],
      "execution_count": 2,
      "outputs": [
        {
          "output_type": "display_data",
          "data": {
            "image/png": "[encoded data removed]",
            "text/plain": [
              "<Figure size 432x288 with 1 Axes>"
            ]
          },
          "metadata": {
            "tags": []
          }
        }
      ]
    },
    {
      "cell_type": "markdown",
      "metadata": {
        "id": "XiwjlsJPSJnZ",
        "colab_type": "text"
      },
      "source": [
        "Completing the matrix by adding rows 1 , x^2 , x^3 and so on.\n",
        "\n",
        "Final x matrix is of the form [[1],[x],[x^2]...]\n",
        "\n",
        "Weights initialised."
      ]
    },
    {
      "cell_type": "code",
      "metadata": {
        "id": "YEfgouUNJesj",
        "colab_type": "code",
        "colab": {}
      },
      "source": [
        "deg = 8 # degree of polynomial\n",
        "w = np.random.randn(deg+1)\n",
        "ones = np.ones(n)\n",
        "x = np.vstack((ones,x))\n",
        "\n",
        "for i in range(deg-1):\n",
        "  x = np.vstack((x,x[1]*x[-1]))\n",
        "\n",
        "#Normalization\n",
        "x[1:,:] = (x[1:,:] - np.mean(x[1:,:],axis=1).reshape(-1,1)) / np.std(x[1:,:],axis=1).reshape(-1,1)"
      ],
      "execution_count": 0,
      "outputs": []
    },
    {
      "cell_type": "markdown",
      "metadata": {
        "id": "eOsB5Wg2scVk",
        "colab_type": "text"
      },
      "source": [
        "Cost Function"
      ]
    },
    {
      "cell_type": "code",
      "metadata": {
        "id": "5bzVBJOLS-Q8",
        "colab_type": "code",
        "colab": {}
      },
      "source": [
        "def cost():\n",
        "  j = (w.dot(x)-y)**2\n",
        "  j = 1/2 * n * np.sum(j)\n",
        "  return j"
      ],
      "execution_count": 0,
      "outputs": []
    },
    {
      "cell_type": "markdown",
      "metadata": {
        "id": "1KicDmdDsY5G",
        "colab_type": "text"
      },
      "source": [
        "Gradient Descent"
      ]
    },
    {
      "cell_type": "code",
      "metadata": {
        "id": "GsI47cKDUXin",
        "colab_type": "code",
        "colab": {}
      },
      "source": [
        "def update(lr):\n",
        "  for j in range(deg+1):\n",
        "    delj = 0\n",
        "    for i in range(n):\n",
        "      delj += (w.dot(x[:,i])-y[i])*x[j][i]\n",
        "    delj /= n\n",
        "    w[j] = w[j] - lr * delj"
      ],
      "execution_count": 0,
      "outputs": []
    },
    {
      "cell_type": "code",
      "metadata": {
        "id": "rij4Si4kXuNU",
        "colab_type": "code",
        "colab": {
          "base_uri": "https://localhost:8080/",
          "height": 295
        },
        "outputId": "132047da-2ed6-43e8-f26d-ac7c83308697"
      },
      "source": [
        "iter = np.arange(1000)\n",
        "j = []\n",
        "lr = 0.01\n",
        "for i in range(1000):\n",
        "  j.append(cost())\n",
        "  update(lr)\n",
        "\n",
        "print(f'Loss:{cost()}')\n",
        "plt.plot(iter,j)\n",
        "plt.show()"
      ],
      "execution_count": 6,
      "outputs": [
        {
          "output_type": "stream",
          "text": [
            "Loss:68264.1300496852\n"
          ],
          "name": "stdout"
        },
        {
          "output_type": "display_data",
          "data": {
            "image/png": "[encoded data removed]",
            "text/plain": [
              "<Figure size 432x288 with 1 Axes>"
            ]
          },
          "metadata": {
            "tags": []
          }
        }
      ]
    },
    {
      "cell_type": "code",
      "metadata": {
        "id": "knH1nxQ-gwbO",
        "colab_type": "code",
        "colab": {
          "base_uri": "https://localhost:8080/",
          "height": 265
        },
        "outputId": "d1ac4dd7-0b9a-4bd8-dc33-7e1a730fd82a"
      },
      "source": [
        "fx = [w.dot(x[:,i]) for i in range(n)]\n",
        "plt.plot(x1,y,'.',x1,fx)\n",
        "plt.show()"
      ],
      "execution_count": 7,
      "outputs": [
        {
          "output_type": "display_data",
          "data": {
            "image/png": "[encoded data removed]",
            "text/plain": [
              "<Figure size 432x288 with 1 Axes>"
            ]
          },
          "metadata": {
            "tags": []
          }
        }
      ]
    },
    {
      "cell_type": "markdown",
      "metadata": {
        "id": "p3Y8Y1G-sheo",
        "colab_type": "text"
      },
      "source": [
        "Fitting polynomial using sklearn."
      ]
    },
    {
      "cell_type": "code",
      "metadata": {
        "id": "A4XjdwYSn5Sw",
        "colab_type": "code",
        "colab": {
          "base_uri": "https://localhost:8080/",
          "height": 320
        },
        "outputId": "92d8a940-9490-4cbd-da42-211da16e8ae3"
      },
      "source": [
        "x1 = x1[:, np.newaxis]\n",
        "y1 = y1[:, np.newaxis]\n",
        "\n",
        "poly_feat = PolynomialFeatures(degree=8)\n",
        "x_poly = poly_feat.fit_transform(x1)\n",
        "\n",
        "model = LinearRegression()\n",
        "model.fit(x_poly, y1)\n",
        "y_pred = model.predict(x_poly)\n",
        "\n",
        "print(f'Loss:{mean_squared_error(y1,y_pred)}')\n",
        "plt.plot(x1,y,'.',x1,y_pred)"
      ],
      "execution_count": 8,
      "outputs": [
        {
          "output_type": "stream",
          "text": [
            "Loss:0.00010510849101812794\n"
          ],
          "name": "stdout"
        },
        {
          "output_type": "execute_result",
          "data": {
            "text/plain": [
              "[<matplotlib.lines.Line2D at 0x7f86808bff98>,\n",
              " <matplotlib.lines.Line2D at 0x7f86808cd0b8>]"
            ]
          },
          "metadata": {
            "tags": []
          },
          "execution_count": 8
        },
        {
          "output_type": "display_data",
          "data": {
            "image/png": "[encoded data removed]",
            "text/plain": [
              "<Figure size 432x288 with 1 Axes>"
            ]
          },
          "metadata": {
            "tags": []
          }
        }
      ]
    }
  ]
}